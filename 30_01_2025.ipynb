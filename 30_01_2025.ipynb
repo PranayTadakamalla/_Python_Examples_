{
  "nbformat": 4,
  "nbformat_minor": 0,
  "metadata": {
    "colab": {
      "provenance": [],
      "authorship_tag": "ABX9TyNRGnhkwOWIEBNJ17pKlGy1"
    },
    "kernelspec": {
      "name": "python3",
      "display_name": "Python 3"
    },
    "language_info": {
      "name": "python"
    }
  },
  "cells": [
    {
      "cell_type": "code",
      "source": [
        "def lr(x, m, c):\n",
        "    return (b * a) + c\n",
        "a = float(input(\"Number of kms traveled (x): \"))\n",
        "b = float(input(\"Rate per Km (m): \"))\n",
        "c = float(input(\"Fixed fare (c): \"))\n",
        "d = lr(a, b, c)\n",
        "print(\"Predicted cab price:\", d)\n",
        "e = float(input(\"Ola's base price : \"))\n",
        "f = float(input(\"Ola's Fare Price : \"))\n",
        "ola_price = lr(a,e,f)\n",
        "print(\"Ola's price:\", ola_price)\n",
        "g = float(input(\"Uber's base price : \"))\n",
        "h = float(input(\"Uber's Fare Price : \"))\n",
        "uber_price = lr(a,g,h)\n",
        "print(\"Uber's price:\", uber_price)\n",
        "if ola_price < uber_price:\n",
        "    print(\"Ola is cheaper.\")\n",
        "elif uber_price < ola_price:\n",
        "    print(\"Uber is cheaper.\")\n",
        "else:\n",
        "    print(\"Ola and Uber are the same price.\")"
      ],
      "metadata": {
        "colab": {
          "base_uri": "https://localhost:8080/"
        },
        "id": "k5ZLPNjv8cXC",
        "outputId": "bafb444e-4077-4e14-9e8b-0dc75c60501a"
      },
      "execution_count": 6,
      "outputs": [
        {
          "output_type": "stream",
          "name": "stdout",
          "text": [
            "Number of kms traveled (x): 20\n",
            "Rate per Km (m): 5\n",
            "Fixed fare (c): 5\n",
            "Predicted cab price: 105.0\n",
            "Ola's base price : 50\n",
            "Ola's Fare Price : 25\n",
            "Ola's price: 125.0\n",
            "Uber's base price : 35\n",
            "Uber's Fare Price : 50\n",
            "Uber's price: 150.0\n",
            "Ola is cheaper.\n"
          ]
        }
      ]
    }
  ]
}